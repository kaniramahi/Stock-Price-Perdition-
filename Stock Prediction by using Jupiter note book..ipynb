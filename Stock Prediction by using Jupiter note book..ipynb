{
 "cells": [
  {
   "cell_type": "code",
   "execution_count": null,
   "metadata": {
    "id": "mCjjsD82F8L9"
   },
   "outputs": [],
   "source": [
    "#pip install tensorflow-gpu"
   ]
  },
  {
   "cell_type": "markdown",
   "metadata": {},
   "source": [
    "# Import the necessary libraries"
   ]
  },
  {
   "cell_type": "code",
   "execution_count": 23,
   "metadata": {
    "id": "t7l0DVk3GyYT"
   },
   "outputs": [],
   "source": [
    "### Data Collection\n",
    "import pandas_datareader as pdr\n",
    "key=\"\"\n",
    "import pandas as pd\n",
    "import matplotlib.pyplot as plt\n",
    "import numpy as np\n",
    "from numpy import array\n",
    "import seaborn as sns"
   ]
  },
  {
   "cell_type": "code",
   "execution_count": 24,
   "metadata": {
    "id": "RTP0snUcGycC"
   },
   "outputs": [],
   "source": [
    "import tensorflow as tf"
   ]
  },
  {
   "cell_type": "code",
   "execution_count": 25,
   "metadata": {
    "id": "wra3k2NJHvzd"
   },
   "outputs": [],
   "source": [
    "### Create the Stacked LSTM model\n",
    "from tensorflow.keras.models import Sequential\n",
    "from tensorflow.keras.layers import Dense\n",
    "from tensorflow.keras.layers import LSTM"
   ]
  },
  {
   "cell_type": "code",
   "execution_count": null,
   "metadata": {},
   "outputs": [],
   "source": []
  },
  {
   "cell_type": "markdown",
   "metadata": {},
   "source": [
    "# Load and preprocess the data"
   ]
  },
  {
   "cell_type": "code",
   "execution_count": 26,
   "metadata": {
    "colab": {
     "base_uri": "https://localhost:8080/",
     "height": 206
    },
    "id": "xk2EhFw-Gyfb",
    "outputId": "99530d42-ebae-4dfa-b761-71185258ad0c"
   },
   "outputs": [
    {
     "data": {
      "text/html": [
       "<div>\n",
       "<style scoped>\n",
       "    .dataframe tbody tr th:only-of-type {\n",
       "        vertical-align: middle;\n",
       "    }\n",
       "\n",
       "    .dataframe tbody tr th {\n",
       "        vertical-align: top;\n",
       "    }\n",
       "\n",
       "    .dataframe thead th {\n",
       "        text-align: right;\n",
       "    }\n",
       "</style>\n",
       "<table border=\"1\" class=\"dataframe\">\n",
       "  <thead>\n",
       "    <tr style=\"text-align: right;\">\n",
       "      <th></th>\n",
       "      <th>Date</th>\n",
       "      <th>Open</th>\n",
       "      <th>High</th>\n",
       "      <th>Low</th>\n",
       "      <th>Close</th>\n",
       "      <th>Volume</th>\n",
       "      <th>Adj Close</th>\n",
       "    </tr>\n",
       "  </thead>\n",
       "  <tbody>\n",
       "    <tr>\n",
       "      <th>0</th>\n",
       "      <td>6/29/2010</td>\n",
       "      <td>19.000000</td>\n",
       "      <td>25.00</td>\n",
       "      <td>17.540001</td>\n",
       "      <td>23.889999</td>\n",
       "      <td>18766300</td>\n",
       "      <td>23.889999</td>\n",
       "    </tr>\n",
       "    <tr>\n",
       "      <th>1</th>\n",
       "      <td>6/30/2010</td>\n",
       "      <td>25.790001</td>\n",
       "      <td>30.42</td>\n",
       "      <td>23.299999</td>\n",
       "      <td>23.830000</td>\n",
       "      <td>17187100</td>\n",
       "      <td>23.830000</td>\n",
       "    </tr>\n",
       "    <tr>\n",
       "      <th>2</th>\n",
       "      <td>7/1/2010</td>\n",
       "      <td>25.000000</td>\n",
       "      <td>25.92</td>\n",
       "      <td>20.270000</td>\n",
       "      <td>21.959999</td>\n",
       "      <td>8218800</td>\n",
       "      <td>21.959999</td>\n",
       "    </tr>\n",
       "    <tr>\n",
       "      <th>3</th>\n",
       "      <td>7/2/2010</td>\n",
       "      <td>23.000000</td>\n",
       "      <td>23.10</td>\n",
       "      <td>18.709999</td>\n",
       "      <td>19.200001</td>\n",
       "      <td>5139800</td>\n",
       "      <td>19.200001</td>\n",
       "    </tr>\n",
       "    <tr>\n",
       "      <th>4</th>\n",
       "      <td>7/6/2010</td>\n",
       "      <td>20.000000</td>\n",
       "      <td>20.00</td>\n",
       "      <td>15.830000</td>\n",
       "      <td>16.110001</td>\n",
       "      <td>6866900</td>\n",
       "      <td>16.110001</td>\n",
       "    </tr>\n",
       "  </tbody>\n",
       "</table>\n",
       "</div>"
      ],
      "text/plain": [
       "        Date       Open   High        Low      Close    Volume  Adj Close\n",
       "0  6/29/2010  19.000000  25.00  17.540001  23.889999  18766300  23.889999\n",
       "1  6/30/2010  25.790001  30.42  23.299999  23.830000  17187100  23.830000\n",
       "2   7/1/2010  25.000000  25.92  20.270000  21.959999   8218800  21.959999\n",
       "3   7/2/2010  23.000000  23.10  18.709999  19.200001   5139800  19.200001\n",
       "4   7/6/2010  20.000000  20.00  15.830000  16.110001   6866900  16.110001"
      ]
     },
     "execution_count": 26,
     "metadata": {},
     "output_type": "execute_result"
    }
   ],
   "source": [
    "df=pd.read_csv('Tesla.csv.csv')\n",
    "df.head()"
   ]
  },
  {
   "cell_type": "code",
   "execution_count": 27,
   "metadata": {
    "colab": {
     "base_uri": "https://localhost:8080/",
     "height": 206
    },
    "id": "6ESn5PcuGyxb",
    "outputId": "dca74410-c7b1-4351-de3b-18ab2049a53c"
   },
   "outputs": [
    {
     "data": {
      "text/html": [
       "<div>\n",
       "<style scoped>\n",
       "    .dataframe tbody tr th:only-of-type {\n",
       "        vertical-align: middle;\n",
       "    }\n",
       "\n",
       "    .dataframe tbody tr th {\n",
       "        vertical-align: top;\n",
       "    }\n",
       "\n",
       "    .dataframe thead th {\n",
       "        text-align: right;\n",
       "    }\n",
       "</style>\n",
       "<table border=\"1\" class=\"dataframe\">\n",
       "  <thead>\n",
       "    <tr style=\"text-align: right;\">\n",
       "      <th></th>\n",
       "      <th>Date</th>\n",
       "      <th>Open</th>\n",
       "      <th>High</th>\n",
       "      <th>Low</th>\n",
       "      <th>Close</th>\n",
       "      <th>Volume</th>\n",
       "      <th>Adj Close</th>\n",
       "    </tr>\n",
       "  </thead>\n",
       "  <tbody>\n",
       "    <tr>\n",
       "      <th>1687</th>\n",
       "      <td>3/13/2017</td>\n",
       "      <td>244.820007</td>\n",
       "      <td>246.850006</td>\n",
       "      <td>242.779999</td>\n",
       "      <td>246.169998</td>\n",
       "      <td>3010700</td>\n",
       "      <td>246.169998</td>\n",
       "    </tr>\n",
       "    <tr>\n",
       "      <th>1688</th>\n",
       "      <td>3/14/2017</td>\n",
       "      <td>246.110001</td>\n",
       "      <td>258.119995</td>\n",
       "      <td>246.020004</td>\n",
       "      <td>258.000000</td>\n",
       "      <td>7575500</td>\n",
       "      <td>258.000000</td>\n",
       "    </tr>\n",
       "    <tr>\n",
       "      <th>1689</th>\n",
       "      <td>3/15/2017</td>\n",
       "      <td>257.000000</td>\n",
       "      <td>261.000000</td>\n",
       "      <td>254.270004</td>\n",
       "      <td>255.729996</td>\n",
       "      <td>4816600</td>\n",
       "      <td>255.729996</td>\n",
       "    </tr>\n",
       "    <tr>\n",
       "      <th>1690</th>\n",
       "      <td>3/16/2017</td>\n",
       "      <td>262.399994</td>\n",
       "      <td>265.750000</td>\n",
       "      <td>259.059998</td>\n",
       "      <td>262.049988</td>\n",
       "      <td>7100400</td>\n",
       "      <td>262.049988</td>\n",
       "    </tr>\n",
       "    <tr>\n",
       "      <th>1691</th>\n",
       "      <td>3/17/2017</td>\n",
       "      <td>264.000000</td>\n",
       "      <td>265.329987</td>\n",
       "      <td>261.200012</td>\n",
       "      <td>261.500000</td>\n",
       "      <td>6475900</td>\n",
       "      <td>261.500000</td>\n",
       "    </tr>\n",
       "  </tbody>\n",
       "</table>\n",
       "</div>"
      ],
      "text/plain": [
       "           Date        Open        High         Low       Close   Volume  \\\n",
       "1687  3/13/2017  244.820007  246.850006  242.779999  246.169998  3010700   \n",
       "1688  3/14/2017  246.110001  258.119995  246.020004  258.000000  7575500   \n",
       "1689  3/15/2017  257.000000  261.000000  254.270004  255.729996  4816600   \n",
       "1690  3/16/2017  262.399994  265.750000  259.059998  262.049988  7100400   \n",
       "1691  3/17/2017  264.000000  265.329987  261.200012  261.500000  6475900   \n",
       "\n",
       "       Adj Close  \n",
       "1687  246.169998  \n",
       "1688  258.000000  \n",
       "1689  255.729996  \n",
       "1690  262.049988  \n",
       "1691  261.500000  "
      ]
     },
     "execution_count": 27,
     "metadata": {},
     "output_type": "execute_result"
    }
   ],
   "source": [
    "df.tail()"
   ]
  },
  {
   "cell_type": "code",
   "execution_count": 28,
   "metadata": {},
   "outputs": [
    {
     "data": {
      "text/plain": [
       "Index(['Date', 'Open', 'High', 'Low', 'Close', 'Volume', 'Adj Close'], dtype='object')"
      ]
     },
     "execution_count": 28,
     "metadata": {},
     "output_type": "execute_result"
    }
   ],
   "source": [
    "df.columns"
   ]
  },
  {
   "cell_type": "code",
   "execution_count": 29,
   "metadata": {},
   "outputs": [
    {
     "data": {
      "text/plain": [
       "(1692, 7)"
      ]
     },
     "execution_count": 29,
     "metadata": {},
     "output_type": "execute_result"
    }
   ],
   "source": [
    "df.shape #check the shape"
   ]
  },
  {
   "cell_type": "code",
   "execution_count": null,
   "metadata": {},
   "outputs": [],
   "source": [
    " "
   ]
  },
  {
   "cell_type": "code",
   "execution_count": 30,
   "metadata": {},
   "outputs": [
    {
     "data": {
      "text/plain": [
       "Date          object\n",
       "Open         float64\n",
       "High         float64\n",
       "Low          float64\n",
       "Close        float64\n",
       "Volume         int64\n",
       "Adj Close    float64\n",
       "dtype: object"
      ]
     },
     "execution_count": 30,
     "metadata": {},
     "output_type": "execute_result"
    }
   ],
   "source": [
    "df.dtypes #check the datatypes"
   ]
  },
  {
   "cell_type": "code",
   "execution_count": 31,
   "metadata": {},
   "outputs": [
    {
     "data": {
      "text/plain": [
       "Date         0\n",
       "Open         0\n",
       "High         0\n",
       "Low          0\n",
       "Close        0\n",
       "Volume       0\n",
       "Adj Close    0\n",
       "dtype: int64"
      ]
     },
     "execution_count": 31,
     "metadata": {},
     "output_type": "execute_result"
    }
   ],
   "source": [
    "df.isnull().sum() #there is no null value "
   ]
  },
  {
   "cell_type": "code",
   "execution_count": 32,
   "metadata": {},
   "outputs": [
    {
     "data": {
      "text/plain": [
       "0"
      ]
     },
     "execution_count": 32,
     "metadata": {},
     "output_type": "execute_result"
    }
   ],
   "source": [
    "df.duplicated().sum()#check the duplicate"
   ]
  },
  {
   "cell_type": "code",
   "execution_count": 33,
   "metadata": {},
   "outputs": [
    {
     "data": {
      "text/html": [
       "<div>\n",
       "<style scoped>\n",
       "    .dataframe tbody tr th:only-of-type {\n",
       "        vertical-align: middle;\n",
       "    }\n",
       "\n",
       "    .dataframe tbody tr th {\n",
       "        vertical-align: top;\n",
       "    }\n",
       "\n",
       "    .dataframe thead th {\n",
       "        text-align: right;\n",
       "    }\n",
       "</style>\n",
       "<table border=\"1\" class=\"dataframe\">\n",
       "  <thead>\n",
       "    <tr style=\"text-align: right;\">\n",
       "      <th></th>\n",
       "      <th>Open</th>\n",
       "      <th>High</th>\n",
       "      <th>Low</th>\n",
       "      <th>Close</th>\n",
       "      <th>Volume</th>\n",
       "      <th>Adj Close</th>\n",
       "    </tr>\n",
       "  </thead>\n",
       "  <tbody>\n",
       "    <tr>\n",
       "      <th>count</th>\n",
       "      <td>1692.000000</td>\n",
       "      <td>1692.000000</td>\n",
       "      <td>1692.000000</td>\n",
       "      <td>1692.000000</td>\n",
       "      <td>1.692000e+03</td>\n",
       "      <td>1692.000000</td>\n",
       "    </tr>\n",
       "    <tr>\n",
       "      <th>mean</th>\n",
       "      <td>132.441572</td>\n",
       "      <td>134.769698</td>\n",
       "      <td>129.996223</td>\n",
       "      <td>132.428658</td>\n",
       "      <td>4.270741e+06</td>\n",
       "      <td>132.428658</td>\n",
       "    </tr>\n",
       "    <tr>\n",
       "      <th>std</th>\n",
       "      <td>94.309923</td>\n",
       "      <td>95.694914</td>\n",
       "      <td>92.855227</td>\n",
       "      <td>94.313187</td>\n",
       "      <td>4.295971e+06</td>\n",
       "      <td>94.313187</td>\n",
       "    </tr>\n",
       "    <tr>\n",
       "      <th>min</th>\n",
       "      <td>16.139999</td>\n",
       "      <td>16.629999</td>\n",
       "      <td>14.980000</td>\n",
       "      <td>15.800000</td>\n",
       "      <td>1.185000e+05</td>\n",
       "      <td>15.800000</td>\n",
       "    </tr>\n",
       "    <tr>\n",
       "      <th>25%</th>\n",
       "      <td>30.000000</td>\n",
       "      <td>30.650000</td>\n",
       "      <td>29.215000</td>\n",
       "      <td>29.884999</td>\n",
       "      <td>1.194350e+06</td>\n",
       "      <td>29.884999</td>\n",
       "    </tr>\n",
       "    <tr>\n",
       "      <th>50%</th>\n",
       "      <td>156.334999</td>\n",
       "      <td>162.370002</td>\n",
       "      <td>153.150002</td>\n",
       "      <td>158.160004</td>\n",
       "      <td>3.180700e+06</td>\n",
       "      <td>158.160004</td>\n",
       "    </tr>\n",
       "    <tr>\n",
       "      <th>75%</th>\n",
       "      <td>220.557495</td>\n",
       "      <td>224.099999</td>\n",
       "      <td>217.119999</td>\n",
       "      <td>220.022503</td>\n",
       "      <td>5.662100e+06</td>\n",
       "      <td>220.022503</td>\n",
       "    </tr>\n",
       "    <tr>\n",
       "      <th>max</th>\n",
       "      <td>287.670013</td>\n",
       "      <td>291.420013</td>\n",
       "      <td>280.399994</td>\n",
       "      <td>286.040009</td>\n",
       "      <td>3.716390e+07</td>\n",
       "      <td>286.040009</td>\n",
       "    </tr>\n",
       "  </tbody>\n",
       "</table>\n",
       "</div>"
      ],
      "text/plain": [
       "              Open         High          Low        Close        Volume  \\\n",
       "count  1692.000000  1692.000000  1692.000000  1692.000000  1.692000e+03   \n",
       "mean    132.441572   134.769698   129.996223   132.428658  4.270741e+06   \n",
       "std      94.309923    95.694914    92.855227    94.313187  4.295971e+06   \n",
       "min      16.139999    16.629999    14.980000    15.800000  1.185000e+05   \n",
       "25%      30.000000    30.650000    29.215000    29.884999  1.194350e+06   \n",
       "50%     156.334999   162.370002   153.150002   158.160004  3.180700e+06   \n",
       "75%     220.557495   224.099999   217.119999   220.022503  5.662100e+06   \n",
       "max     287.670013   291.420013   280.399994   286.040009  3.716390e+07   \n",
       "\n",
       "         Adj Close  \n",
       "count  1692.000000  \n",
       "mean    132.428658  \n",
       "std      94.313187  \n",
       "min      15.800000  \n",
       "25%      29.884999  \n",
       "50%     158.160004  \n",
       "75%     220.022503  \n",
       "max     286.040009  "
      ]
     },
     "execution_count": 33,
     "metadata": {},
     "output_type": "execute_result"
    }
   ],
   "source": [
    "# Summary of the data set\n",
    "df.describe()"
   ]
  },
  {
   "cell_type": "code",
   "execution_count": 34,
   "metadata": {
    "id": "GBLVkG6CGy0k"
   },
   "outputs": [],
   "source": [
    "Tesla=df.reset_index()['Close']"
   ]
  },
  {
   "cell_type": "code",
   "execution_count": 35,
   "metadata": {},
   "outputs": [
    {
     "data": {
      "text/plain": [
       "0        23.889999\n",
       "1        23.830000\n",
       "2        21.959999\n",
       "3        19.200001\n",
       "4        16.110001\n",
       "           ...    \n",
       "1687    246.169998\n",
       "1688    258.000000\n",
       "1689    255.729996\n",
       "1690    262.049988\n",
       "1691    261.500000\n",
       "Name: Close, Length: 1692, dtype: float64"
      ]
     },
     "execution_count": 35,
     "metadata": {},
     "output_type": "execute_result"
    }
   ],
   "source": [
    "Tesla"
   ]
  },
  {
   "cell_type": "code",
   "execution_count": 39,
   "metadata": {
    "colab": {
     "base_uri": "https://localhost:8080/"
    },
    "id": "8tv4q3nYGy4B",
    "outputId": "8d964c75-918c-40ec-99c2-3d93793cf9d7"
   },
   "outputs": [
    {
     "data": {
      "text/plain": [
       "(1692,)"
      ]
     },
     "execution_count": 39,
     "metadata": {},
     "output_type": "execute_result"
    }
   ],
   "source": [
    "Tesla.shape"
   ]
  },
  {
   "cell_type": "code",
   "execution_count": 40,
   "metadata": {
    "colab": {
     "base_uri": "https://localhost:8080/",
     "height": 447
    },
    "id": "CgvqmAvAGy7w",
    "outputId": "9167eebb-a964-4b17-ef5f-8cdbbb2a4ecb"
   },
   "outputs": [
    {
     "data": {
      "text/plain": [
       "[<matplotlib.lines.Line2D at 0x2637098dd30>]"
      ]
     },
     "execution_count": 40,
     "metadata": {},
     "output_type": "execute_result"
    },
    {
     "data": {
      "image/png": "[encoded data removed]",
      "text/plain": [
       "<Figure size 432x288 with 1 Axes>"
      ]
     },
     "metadata": {
      "needs_background": "light"
     },
     "output_type": "display_data"
    }
   ],
   "source": [
    "plt.plot(Tesla)"
   ]
  },
  {
   "cell_type": "code",
   "execution_count": 42,
   "metadata": {},
   "outputs": [
    {
     "data": {
      "image/png": "[encoded data removed]",
      "text/plain": [
       "<Figure size 432x288 with 1 Axes>"
      ]
     },
     "metadata": {
      "needs_background": "light"
     },
     "output_type": "display_data"
    }
   ],
   "source": [
    "df['Open'].plot.hist()#its showing Highest Opne price for the stock\n",
    "plt.xlabel('Days')\n",
    "plt.ylabel('Stock Price')\n",
    "plt.legend(['Actual', 'Predicted'])\n",
    "plt.show()"
   ]
  },
  {
   "cell_type": "code",
   "execution_count": 43,
   "metadata": {},
   "outputs": [
    {
     "data": {
      "text/plain": [
       "<bound method Series.info of 0        23.889999\n",
       "1        23.830000\n",
       "2        21.959999\n",
       "3        19.200001\n",
       "4        16.110001\n",
       "           ...    \n",
       "1687    246.169998\n",
       "1688    258.000000\n",
       "1689    255.729996\n",
       "1690    262.049988\n",
       "1691    261.500000\n",
       "Name: Close, Length: 1692, dtype: float64>"
      ]
     },
     "execution_count": 43,
     "metadata": {},
     "output_type": "execute_result"
    }
   ],
   "source": [
    "Tesla.info"
   ]
  },
  {
   "cell_type": "code",
   "execution_count": 44,
   "metadata": {
    "id": "Nxy5OLZbGy-c"
   },
   "outputs": [],
   "source": [
    "### LSTM are sensitive to the scale of the data. so we apply MinMax scal"
   ]
  },
  {
   "cell_type": "code",
   "execution_count": 45,
   "metadata": {
    "colab": {
     "base_uri": "https://localhost:8080/"
    },
    "id": "TPTJomCsGzBO",
    "outputId": "0cd782ba-a26e-4be5-935f-26bba259583c"
   },
   "outputs": [
    {
     "data": {
      "text/plain": [
       "0        23.889999\n",
       "1        23.830000\n",
       "2        21.959999\n",
       "3        19.200001\n",
       "4        16.110001\n",
       "           ...    \n",
       "1687    246.169998\n",
       "1688    258.000000\n",
       "1689    255.729996\n",
       "1690    262.049988\n",
       "1691    261.500000\n",
       "Name: Close, Length: 1692, dtype: float64"
      ]
     },
     "execution_count": 45,
     "metadata": {},
     "output_type": "execute_result"
    }
   ],
   "source": [
    "Tesla"
   ]
  },
  {
   "cell_type": "code",
   "execution_count": 46,
   "metadata": {
    "id": "3Zi_8mDfGzFN"
   },
   "outputs": [],
   "source": [
    "from sklearn.preprocessing import MinMaxScaler\n",
    "scaler=MinMaxScaler(feature_range=(0,1))\n",
    "Tesla=scaler.fit_transform(np.array(Tesla).reshape(-1,1))"
   ]
  },
  {
   "cell_type": "code",
   "execution_count": 47,
   "metadata": {
    "colab": {
     "base_uri": "https://localhost:8080/"
    },
    "id": "BEUc7KiZGzIN",
    "outputId": "09c666aa-0119-456e-c207-07126aa63808"
   },
   "outputs": [
    {
     "data": {
      "text/plain": [
       "array([[0.02993635],\n",
       "       [0.02971433],\n",
       "       [0.02279455],\n",
       "       ...,\n",
       "       [0.88784039],\n",
       "       [0.91122698],\n",
       "       [0.9091918 ]])"
      ]
     },
     "execution_count": 47,
     "metadata": {},
     "output_type": "execute_result"
    }
   ],
   "source": [
    "Tesla"
   ]
  },
  {
   "cell_type": "code",
   "execution_count": 48,
   "metadata": {
    "id": "beIO1tJ5GdKr"
   },
   "outputs": [],
   "source": [
    "##splitting dataset into train and test split\n",
    "training_size=int(len(Tesla)*0.65)\n",
    "test_size=len(Tesla)-training_size\n",
    "train_data,test_data=Tesla[0:training_size,:],Tesla[training_size:len(Tesla),:1]"
   ]
  },
  {
   "cell_type": "code",
   "execution_count": 49,
   "metadata": {
    "colab": {
     "base_uri": "https://localhost:8080/"
    },
    "id": "KMEMPeKhHvUD",
    "outputId": "901922c8-d07b-47b0-d231-be4a91b7be2c"
   },
   "outputs": [
    {
     "data": {
      "text/plain": [
       "(1099, 593)"
      ]
     },
     "execution_count": 49,
     "metadata": {},
     "output_type": "execute_result"
    }
   ],
   "source": [
    "training_size,test_size"
   ]
  },
  {
   "cell_type": "code",
   "execution_count": 50,
   "metadata": {
    "colab": {
     "base_uri": "https://localhost:8080/"
    },
    "id": "oT3FmBAVHvbB",
    "outputId": "aecaf17c-9c9c-4b1a-b1d0-ddb6481e33fd"
   },
   "outputs": [
    {
     "data": {
      "text/plain": [
       "array([[0.02993635],\n",
       "       [0.02971433],\n",
       "       [0.02279455],\n",
       "       ...,\n",
       "       [0.82567342],\n",
       "       [0.79621815],\n",
       "       [0.8341474 ]])"
      ]
     },
     "execution_count": 50,
     "metadata": {},
     "output_type": "execute_result"
    }
   ],
   "source": [
    "train_data"
   ]
  },
  {
   "cell_type": "code",
   "execution_count": 55,
   "metadata": {
    "id": "HcyArFgnHvlH"
   },
   "outputs": [],
   "source": [
    "import numpy\n",
    "# convert an array of values into a dataset matrix\n",
    "def create_dataset(dataset, time_step=1):\n",
    "\tdataX, dataY = [], []\n",
    "\tfor i in range(len(dataset)-time_step-1):\n",
    "\t\ta = dataset[i:(i+time_step), 0]   ###i=0, 0,1,2,3-----99   100\n",
    "\t\tdataX.append(a)\n",
    "\t\tdataY.append(dataset[i + time_step, 0])\n",
    "\treturn numpy.array(dataX), numpy.array(dataY)"
   ]
  },
  {
   "cell_type": "code",
   "execution_count": 56,
   "metadata": {
    "id": "HPayFU5AHvn8"
   },
   "outputs": [],
   "source": [
    "# reshape into X=t,t+1,t+2,t+3 and Y=t+4\n",
    "time_step = 100\n",
    "X_train, y_train = create_dataset(train_data, time_step)\n",
    "X_test, ytest = create_dataset(test_data, time_step)"
   ]
  },
  {
   "cell_type": "code",
   "execution_count": 57,
   "metadata": {
    "colab": {
     "base_uri": "https://localhost:8080/"
    },
    "id": "V1T0Ba1WHvqD",
    "outputId": "d33bba8e-4579-43d5-b6e9-19667009a84c"
   },
   "outputs": [
    {
     "name": "stdout",
     "output_type": "stream",
     "text": [
      "(998, 100)\n",
      "(998,)\n"
     ]
    },
    {
     "data": {
      "text/plain": [
       "(None, None)"
      ]
     },
     "execution_count": 57,
     "metadata": {},
     "output_type": "execute_result"
    }
   ],
   "source": [
    "print(X_train.shape), print(y_train.shape)"
   ]
  },
  {
   "cell_type": "code",
   "execution_count": 58,
   "metadata": {},
   "outputs": [
    {
     "name": "stdout",
     "output_type": "stream",
     "text": [
      "(492, 100)\n",
      "(492,)\n"
     ]
    },
    {
     "data": {
      "text/plain": [
       "(None, None)"
      ]
     },
     "execution_count": 58,
     "metadata": {},
     "output_type": "execute_result"
    }
   ],
   "source": [
    "print(X_test.shape), print(ytest.shape)"
   ]
  },
  {
   "cell_type": "code",
   "execution_count": 59,
   "metadata": {
    "id": "e9cygxg7HvsS"
   },
   "outputs": [],
   "source": [
    "# reshape input to be [samples, time steps, features] which is required for LSTM\n",
    "X_train =X_train.reshape(X_train.shape[0],X_train.shape[1] , 1)\n",
    "X_test = X_test.reshape(X_test.shape[0],X_test.shape[1] , 1)"
   ]
  },
  {
   "cell_type": "markdown",
   "metadata": {},
   "source": [
    "# Build the LSTM model"
   ]
  },
  {
   "cell_type": "markdown",
   "metadata": {},
   "source": [
    "In this step, we will use the Keras library to build the LSTM model. The first step is to initialize the model using the Sequential() class. Then, we will add the first LSTM layer to the model using the add() function. we will need to specify the number of units in the layer (also known as the number of neurons), whether the layer should return sequences, and the input shape of the data"
   ]
  },
  {
   "cell_type": "code",
   "execution_count": 60,
   "metadata": {},
   "outputs": [],
   "source": [
    "### Create the Stacked LSTM model\n",
    "from tensorflow.keras.models import Sequential\n",
    "from tensorflow.keras.layers import Dense\n",
    "from tensorflow.keras.layers import LSTM"
   ]
  },
  {
   "cell_type": "code",
   "execution_count": 61,
   "metadata": {
    "id": "d7Sa0yfOLrzl"
   },
   "outputs": [],
   "source": [
    "model=Sequential()\n",
    "model.add(LSTM(50,return_sequences=True,input_shape=(100,1)))\n",
    "model.add(LSTM(50,return_sequences=True))\n",
    "model.add(LSTM(50))\n",
    "model.add(Dense(1))\n",
    "# Compile the model\n",
    "model.compile(optimizer='adam', loss='mean_squared_error')\n"
   ]
  },
  {
   "cell_type": "code",
   "execution_count": 62,
   "metadata": {
    "colab": {
     "base_uri": "https://localhost:8080/"
    },
    "id": "cmElvVayLr3Y",
    "outputId": "a77e9ea5-dbe0-4d7f-bca3-d5550bec6df4"
   },
   "outputs": [
    {
     "name": "stdout",
     "output_type": "stream",
     "text": [
      "Model: \"sequential\"\n",
      "_________________________________________________________________\n",
      " Layer (type)                Output Shape              Param #   \n",
      "=================================================================\n",
      " lstm (LSTM)                 (None, 100, 50)           10400     \n",
      "                                                                 \n",
      " lstm_1 (LSTM)               (None, 100, 50)           20200     \n",
      "                                                                 \n",
      " lstm_2 (LSTM)               (None, 50)                20200     \n",
      "                                                                 \n",
      " dense (Dense)               (None, 1)                 51        \n",
      "                                                                 \n",
      "=================================================================\n",
      "Total params: 50851 (198.64 KB)\n",
      "Trainable params: 50851 (198.64 KB)\n",
      "Non-trainable params: 0 (0.00 Byte)\n",
      "_________________________________________________________________\n"
     ]
    }
   ],
   "source": [
    "model.summary()"
   ]
  },
  {
   "cell_type": "code",
   "execution_count": 63,
   "metadata": {
    "colab": {
     "base_uri": "https://localhost:8080/"
    },
    "id": "1jaae6JCLr7F",
    "outputId": "2e27f8df-924e-4300-b9c1-bc8210f201bc"
   },
   "outputs": [],
   "source": [
    "#model.summary()"
   ]
  },
  {
   "cell_type": "code",
   "execution_count": 64,
   "metadata": {
    "colab": {
     "base_uri": "https://localhost:8080/"
    },
    "id": "of0m-_4NLr-n",
    "outputId": "2dfe89b7-e5e5-446a-fc9a-ad901cbef316"
   },
   "outputs": [
    {
     "name": "stdout",
     "output_type": "stream",
     "text": [
      "Epoch 1/50\n",
      "16/16 [==============================] - 24s 559ms/step - loss: 0.0351 - val_loss: 0.0330\n",
      "Epoch 2/50\n",
      "16/16 [==============================] - 6s 371ms/step - loss: 0.0041 - val_loss: 0.0093\n",
      "Epoch 3/50\n",
      "16/16 [==============================] - 6s 349ms/step - loss: 0.0023 - val_loss: 0.0051\n",
      "Epoch 4/50\n",
      "16/16 [==============================] - 5s 293ms/step - loss: 0.0018 - val_loss: 0.0038\n",
      "Epoch 5/50\n",
      "16/16 [==============================] - 4s 274ms/step - loss: 0.0016 - val_loss: 0.0035\n",
      "Epoch 6/50\n",
      "16/16 [==============================] - 4s 276ms/step - loss: 0.0018 - val_loss: 0.0049\n",
      "Epoch 7/50\n",
      "16/16 [==============================] - 4s 272ms/step - loss: 0.0018 - val_loss: 0.0036\n",
      "Epoch 8/50\n",
      "16/16 [==============================] - 6s 346ms/step - loss: 0.0015 - val_loss: 0.0033\n",
      "Epoch 9/50\n",
      "16/16 [==============================] - 5s 315ms/step - loss: 0.0014 - val_loss: 0.0030\n",
      "Epoch 10/50\n",
      "16/16 [==============================] - 5s 329ms/step - loss: 0.0014 - val_loss: 0.0029\n",
      "Epoch 11/50\n",
      "16/16 [==============================] - 4s 275ms/step - loss: 0.0013 - val_loss: 0.0027\n",
      "Epoch 12/50\n",
      "16/16 [==============================] - 4s 277ms/step - loss: 0.0013 - val_loss: 0.0027\n",
      "Epoch 13/50\n",
      "16/16 [==============================] - 5s 286ms/step - loss: 0.0012 - val_loss: 0.0028\n",
      "Epoch 14/50\n",
      "16/16 [==============================] - 4s 274ms/step - loss: 0.0013 - val_loss: 0.0080\n",
      "Epoch 15/50\n",
      "16/16 [==============================] - 6s 371ms/step - loss: 0.0016 - val_loss: 0.0032\n",
      "Epoch 16/50\n",
      "16/16 [==============================] - 14s 797ms/step - loss: 0.0016 - val_loss: 0.0039\n",
      "Epoch 17/50\n",
      "16/16 [==============================] - 4s 275ms/step - loss: 0.0012 - val_loss: 0.0023\n",
      "Epoch 18/50\n",
      "16/16 [==============================] - 4s 277ms/step - loss: 0.0011 - val_loss: 0.0037\n",
      "Epoch 19/50\n",
      "16/16 [==============================] - 4s 277ms/step - loss: 0.0011 - val_loss: 0.0020\n",
      "Epoch 20/50\n",
      "16/16 [==============================] - 4s 274ms/step - loss: 0.0010 - val_loss: 0.0024\n",
      "Epoch 21/50\n",
      "16/16 [==============================] - 4s 276ms/step - loss: 0.0010 - val_loss: 0.0021\n",
      "Epoch 22/50\n",
      "16/16 [==============================] - 4s 282ms/step - loss: 0.0011 - val_loss: 0.0028\n",
      "Epoch 23/50\n",
      "16/16 [==============================] - 5s 329ms/step - loss: 0.0010 - val_loss: 0.0024\n",
      "Epoch 24/50\n",
      "16/16 [==============================] - 4s 281ms/step - loss: 0.0010 - val_loss: 0.0038\n",
      "Epoch 25/50\n",
      "16/16 [==============================] - 4s 274ms/step - loss: 0.0010 - val_loss: 0.0018\n",
      "Epoch 26/50\n",
      "16/16 [==============================] - 4s 273ms/step - loss: 9.2045e-04 - val_loss: 0.0019\n",
      "Epoch 27/50\n",
      "16/16 [==============================] - 4s 274ms/step - loss: 9.3482e-04 - val_loss: 0.0020\n",
      "Epoch 28/50\n",
      "16/16 [==============================] - 4s 275ms/step - loss: 9.8932e-04 - val_loss: 0.0024\n",
      "Epoch 29/50\n",
      "16/16 [==============================] - 16s 1s/step - loss: 9.7034e-04 - val_loss: 0.0017\n",
      "Epoch 30/50\n",
      "16/16 [==============================] - 5s 342ms/step - loss: 8.9050e-04 - val_loss: 0.0022\n",
      "Epoch 31/50\n",
      "16/16 [==============================] - 6s 409ms/step - loss: 9.4469e-04 - val_loss: 0.0017\n",
      "Epoch 32/50\n",
      "16/16 [==============================] - 7s 428ms/step - loss: 8.7994e-04 - val_loss: 0.0023\n",
      "Epoch 33/50\n",
      "16/16 [==============================] - 14s 743ms/step - loss: 8.8035e-04 - val_loss: 0.0027\n",
      "Epoch 34/50\n",
      "16/16 [==============================] - 4s 279ms/step - loss: 9.7337e-04 - val_loss: 0.0016\n",
      "Epoch 35/50\n",
      "16/16 [==============================] - 4s 272ms/step - loss: 9.3216e-04 - val_loss: 0.0015\n",
      "Epoch 36/50\n",
      "16/16 [==============================] - 5s 289ms/step - loss: 8.9420e-04 - val_loss: 0.0015\n",
      "Epoch 37/50\n",
      "16/16 [==============================] - 5s 290ms/step - loss: 9.0417e-04 - val_loss: 0.0023\n",
      "Epoch 38/50\n",
      "16/16 [==============================] - 4s 267ms/step - loss: 0.0010 - val_loss: 0.0015\n",
      "Epoch 39/50\n",
      "16/16 [==============================] - 11s 684ms/step - loss: 9.5207e-04 - val_loss: 0.0040\n",
      "Epoch 40/50\n",
      "16/16 [==============================] - 10s 518ms/step - loss: 9.3923e-04 - val_loss: 0.0021\n",
      "Epoch 41/50\n",
      "16/16 [==============================] - 4s 237ms/step - loss: 8.4744e-04 - val_loss: 0.0014\n",
      "Epoch 42/50\n",
      "16/16 [==============================] - 4s 242ms/step - loss: 7.9412e-04 - val_loss: 0.0020\n",
      "Epoch 43/50\n",
      "16/16 [==============================] - 4s 240ms/step - loss: 8.3754e-04 - val_loss: 0.0016\n",
      "Epoch 44/50\n",
      "16/16 [==============================] - 4s 237ms/step - loss: 7.3728e-04 - val_loss: 0.0021\n",
      "Epoch 45/50\n",
      "16/16 [==============================] - 4s 239ms/step - loss: 8.3379e-04 - val_loss: 0.0017\n",
      "Epoch 46/50\n",
      "16/16 [==============================] - 4s 241ms/step - loss: 8.2502e-04 - val_loss: 0.0015\n",
      "Epoch 47/50\n",
      "16/16 [==============================] - 16s 1s/step - loss: 8.1286e-04 - val_loss: 0.0034\n",
      "Epoch 48/50\n",
      "16/16 [==============================] - 5s 283ms/step - loss: 8.7606e-04 - val_loss: 0.0018\n",
      "Epoch 49/50\n",
      "16/16 [==============================] - 5s 291ms/step - loss: 9.2182e-04 - val_loss: 0.0033\n",
      "Epoch 50/50\n",
      "16/16 [==============================] - 4s 280ms/step - loss: 9.6124e-04 - val_loss: 0.0014\n"
     ]
    },
    {
     "data": {
      "text/plain": [
       "<keras.src.callbacks.History at 0x26372fe16a0>"
      ]
     },
     "execution_count": 64,
     "metadata": {},
     "output_type": "execute_result"
    }
   ],
   "source": [
    "model.fit(X_train,y_train,validation_data=(X_test,ytest),epochs=50,batch_size=64,verbose=1)"
   ]
  },
  {
   "cell_type": "code",
   "execution_count": 65,
   "metadata": {
    "colab": {
     "base_uri": "https://localhost:8080/",
     "height": 36
    },
    "id": "W_xyKTjLLsDQ",
    "outputId": "24a35c0f-ce4e-46e7-8c94-a0bb79ed421e"
   },
   "outputs": [
    {
     "data": {
      "text/plain": [
       "'2.13.0'"
      ]
     },
     "execution_count": 65,
     "metadata": {},
     "output_type": "execute_result"
    }
   ],
   "source": [
    "tf.__version__"
   ]
  },
  {
   "cell_type": "code",
   "execution_count": 66,
   "metadata": {
    "colab": {
     "base_uri": "https://localhost:8080/"
    },
    "id": "NxO4TLRAHv6x",
    "outputId": "d53b1a9b-144b-488d-c276-33f02345fdf0"
   },
   "outputs": [
    {
     "name": "stdout",
     "output_type": "stream",
     "text": [
      "32/32 [==============================] - 4s 47ms/step\n",
      "16/16 [==============================] - 1s 47ms/step\n"
     ]
    }
   ],
   "source": [
    "### Lets Do the prediction and check performance metrics\n",
    "train_predict=model.predict(X_train)\n",
    "test_predict=model.predict(X_test)"
   ]
  },
  {
   "cell_type": "code",
   "execution_count": 67,
   "metadata": {
    "id": "ogd22hCYMbLs"
   },
   "outputs": [],
   "source": [
    "##Transformback to original form\n",
    "train_predict=scaler.inverse_transform(train_predict)\n",
    "test_predict=scaler.inverse_transform(test_predict)"
   ]
  },
  {
   "cell_type": "code",
   "execution_count": null,
   "metadata": {},
   "outputs": [],
   "source": [
    " "
   ]
  },
  {
   "cell_type": "code",
   "execution_count": 68,
   "metadata": {},
   "outputs": [
    {
     "name": "stdout",
     "output_type": "stream",
     "text": [
      "16/16 [==============================] - 1s 47ms/step\n",
      "[[0.65546566]\n",
      " [0.65492034]\n",
      " [0.6581952 ]\n",
      " [0.6652113 ]\n",
      " [0.6751303 ]\n",
      " [0.68658245]\n",
      " [0.69783187]\n",
      " [0.70719874]\n",
      " [0.7141889 ]\n",
      " [0.7184925 ]\n",
      " [0.7204387 ]\n",
      " [0.7201913 ]\n",
      " [0.71935195]\n",
      " [0.72082514]\n",
      " [0.7243319 ]\n",
      " [0.7291038 ]\n",
      " [0.73748493]\n",
      " [0.7481158 ]\n",
      " [0.7599458 ]\n",
      " [0.76996547]\n",
      " [0.7772781 ]\n",
      " [0.7828879 ]\n",
      " [0.7875833 ]\n",
      " [0.7908056 ]\n",
      " [0.79422987]\n",
      " [0.79777443]\n",
      " [0.8018929 ]\n",
      " [0.8075212 ]\n",
      " [0.81359726]\n",
      " [0.8196008 ]\n",
      " [0.8261694 ]\n",
      " [0.8327005 ]\n",
      " [0.8381887 ]\n",
      " [0.8415707 ]\n",
      " [0.8432648 ]\n",
      " [0.84417534]\n",
      " [0.84453475]\n",
      " [0.84452415]\n",
      " [0.84532267]\n",
      " [0.84667224]\n",
      " [0.84795296]\n",
      " [0.8486841 ]\n",
      " [0.84902143]\n",
      " [0.8482577 ]\n",
      " [0.8474834 ]\n",
      " [0.84878564]\n",
      " [0.85180587]\n",
      " [0.8544721 ]\n",
      " [0.85651416]\n",
      " [0.85764474]\n",
      " [0.8578877 ]\n",
      " [0.8581881 ]\n",
      " [0.8605793 ]\n",
      " [0.86506116]\n",
      " [0.8709406 ]\n",
      " [0.87653565]\n",
      " [0.88326323]\n",
      " [0.8897731 ]\n",
      " [0.896383  ]\n",
      " [0.9020825 ]\n",
      " [0.9051389 ]\n",
      " [0.9074072 ]\n",
      " [0.909387  ]\n",
      " [0.91404355]\n",
      " [0.9206316 ]\n",
      " [0.9248024 ]\n",
      " [0.92270243]\n",
      " [0.9163703 ]\n",
      " [0.90804005]\n",
      " [0.9001483 ]\n",
      " [0.89458185]\n",
      " [0.8908263 ]\n",
      " [0.8895932 ]\n",
      " [0.892498  ]\n",
      " [0.9004681 ]\n",
      " [0.9074737 ]\n",
      " [0.912607  ]\n",
      " [0.9154849 ]\n",
      " [0.91594017]\n",
      " [0.9112872 ]\n",
      " [0.906135  ]\n",
      " [0.9014127 ]\n",
      " [0.89845246]\n",
      " [0.8970754 ]\n",
      " [0.8953112 ]\n",
      " [0.8947723 ]\n",
      " [0.8963701 ]\n",
      " [0.8931648 ]\n",
      " [0.88479906]\n",
      " [0.8728069 ]\n",
      " [0.8584074 ]\n",
      " [0.8438706 ]\n",
      " [0.83188534]\n",
      " [0.8233409 ]\n",
      " [0.8212236 ]\n",
      " [0.825993  ]\n",
      " [0.83423036]\n",
      " [0.84044284]\n",
      " [0.8407342 ]\n",
      " [0.8328669 ]\n",
      " [0.8195437 ]\n",
      " [0.8048947 ]\n",
      " [0.7957033 ]\n",
      " [0.79388916]\n",
      " [0.7983737 ]\n",
      " [0.80441105]\n",
      " [0.81255066]\n",
      " [0.82099724]\n",
      " [0.8277765 ]\n",
      " [0.8340295 ]\n",
      " [0.8397473 ]\n",
      " [0.844559  ]\n",
      " [0.84873295]\n",
      " [0.85290706]\n",
      " [0.8569499 ]\n",
      " [0.86282796]\n",
      " [0.8698294 ]\n",
      " [0.8766172 ]\n",
      " [0.88338286]\n",
      " [0.8886722 ]\n",
      " [0.8922345 ]\n",
      " [0.8947022 ]\n",
      " [0.8945934 ]\n",
      " [0.8901595 ]\n",
      " [0.88218296]\n",
      " [0.8728135 ]\n",
      " [0.8613059 ]\n",
      " [0.85110635]\n",
      " [0.8427932 ]\n",
      " [0.83546895]\n",
      " [0.8268789 ]\n",
      " [0.8163203 ]\n",
      " [0.80345273]\n",
      " [0.78855294]\n",
      " [0.774254  ]\n",
      " [0.7613434 ]\n",
      " [0.7517164 ]\n",
      " [0.7469801 ]\n",
      " [0.7468557 ]\n",
      " [0.74654347]\n",
      " [0.7445537 ]\n",
      " [0.7414491 ]\n",
      " [0.7371803 ]\n",
      " [0.73387015]\n",
      " [0.73076457]\n",
      " [0.7286051 ]\n",
      " [0.7271173 ]\n",
      " [0.72508955]\n",
      " [0.724192  ]\n",
      " [0.7231802 ]\n",
      " [0.7275217 ]\n",
      " [0.7366415 ]\n",
      " [0.7489212 ]\n",
      " [0.7606253 ]\n",
      " [0.76807046]\n",
      " [0.77160096]\n",
      " [0.7703981 ]\n",
      " [0.764253  ]\n",
      " [0.7565889 ]\n",
      " [0.7488856 ]\n",
      " [0.7437767 ]\n",
      " [0.74164945]\n",
      " [0.74158597]\n",
      " [0.7423297 ]\n",
      " [0.7434483 ]\n",
      " [0.74739426]\n",
      " [0.7540876 ]\n",
      " [0.7620884 ]\n",
      " [0.7719389 ]\n",
      " [0.78119874]\n",
      " [0.78907704]\n",
      " [0.79454106]\n",
      " [0.79778856]\n",
      " [0.7980605 ]\n",
      " [0.79545075]\n",
      " [0.79155064]\n",
      " [0.7847696 ]\n",
      " [0.77653337]\n",
      " [0.76863974]\n",
      " [0.7652133 ]\n",
      " [0.76584923]\n",
      " [0.76878184]\n",
      " [0.77339023]\n",
      " [0.7780668 ]\n",
      " [0.78207105]\n",
      " [0.7853249 ]\n",
      " [0.7873561 ]\n",
      " [0.79032904]\n",
      " [0.79439205]\n",
      " [0.7995481 ]\n",
      " [0.80095106]\n",
      " [0.79864603]\n",
      " [0.7925528 ]\n",
      " [0.7832825 ]\n",
      " [0.77134794]\n",
      " [0.757688  ]\n",
      " [0.74444187]\n",
      " [0.73054075]\n",
      " [0.7184057 ]\n",
      " [0.708542  ]\n",
      " [0.7011506 ]\n",
      " [0.69477266]\n",
      " [0.6896221 ]\n",
      " [0.68633926]\n",
      " [0.68340105]\n",
      " [0.68002343]\n",
      " [0.67511123]\n",
      " [0.66952324]\n",
      " [0.6642894 ]\n",
      " [0.661214  ]\n",
      " [0.65719974]\n",
      " [0.6501203 ]\n",
      " [0.6410806 ]\n",
      " [0.6285222 ]\n",
      " [0.61074936]\n",
      " [0.58987635]\n",
      " [0.5673983 ]\n",
      " [0.5467896 ]\n",
      " [0.52969366]\n",
      " [0.51753104]\n",
      " [0.5128667 ]\n",
      " [0.51455075]\n",
      " [0.52085304]\n",
      " [0.53218746]\n",
      " [0.5467435 ]\n",
      " [0.5629184 ]\n",
      " [0.580744  ]\n",
      " [0.5993815 ]\n",
      " [0.61767405]\n",
      " [0.6330312 ]\n",
      " [0.6449659 ]\n",
      " [0.65498036]\n",
      " [0.6643984 ]\n",
      " [0.67405975]\n",
      " [0.68285644]\n",
      " [0.6915954 ]\n",
      " [0.6989574 ]\n",
      " [0.7050368 ]\n",
      " [0.71148556]\n",
      " [0.718828  ]\n",
      " [0.7273279 ]\n",
      " [0.7372234 ]\n",
      " [0.74904513]\n",
      " [0.7629241 ]\n",
      " [0.77632684]\n",
      " [0.7849678 ]\n",
      " [0.78985107]\n",
      " [0.79226136]\n",
      " [0.79289925]\n",
      " [0.79155564]\n",
      " [0.7895685 ]\n",
      " [0.7894361 ]\n",
      " [0.79351836]\n",
      " [0.8030591 ]\n",
      " [0.81877655]\n",
      " [0.835877  ]\n",
      " [0.84995216]\n",
      " [0.85973597]\n",
      " [0.8647055 ]\n",
      " [0.86743176]\n",
      " [0.8680461 ]\n",
      " [0.86789364]\n",
      " [0.8672624 ]\n",
      " [0.86470103]\n",
      " [0.86138844]\n",
      " [0.85748106]\n",
      " [0.85491747]\n",
      " [0.8533383 ]\n",
      " [0.85309726]\n",
      " [0.8533057 ]\n",
      " [0.8527126 ]\n",
      " [0.8495602 ]\n",
      " [0.8447637 ]\n",
      " [0.83682305]\n",
      " [0.8245496 ]\n",
      " [0.80711764]\n",
      " [0.78797436]\n",
      " [0.768091  ]\n",
      " [0.74935013]\n",
      " [0.73322785]\n",
      " [0.7201021 ]\n",
      " [0.71032065]\n",
      " [0.7039571 ]\n",
      " [0.6997795 ]\n",
      " [0.69884384]\n",
      " [0.7015467 ]\n",
      " [0.70814985]\n",
      " [0.716383  ]\n",
      " [0.7252666 ]\n",
      " [0.73416984]\n",
      " [0.7436547 ]\n",
      " [0.7524996 ]\n",
      " [0.7600684 ]\n",
      " [0.7650772 ]\n",
      " [0.7673954 ]\n",
      " [0.76747465]\n",
      " [0.76636237]\n",
      " [0.7674967 ]\n",
      " [0.77164567]\n",
      " [0.7764238 ]\n",
      " [0.77824473]\n",
      " [0.77675295]\n",
      " [0.77199835]\n",
      " [0.76583964]\n",
      " [0.75948095]\n",
      " [0.75310963]\n",
      " [0.7482855 ]\n",
      " [0.7452084 ]\n",
      " [0.73818994]\n",
      " [0.72769386]\n",
      " [0.7145113 ]\n",
      " [0.7016732 ]\n",
      " [0.6913252 ]\n",
      " [0.6860038 ]\n",
      " [0.68588114]\n",
      " [0.6908048 ]\n",
      " [0.6985992 ]\n",
      " [0.70769924]\n",
      " [0.7171327 ]\n",
      " [0.72612643]\n",
      " [0.73592156]\n",
      " [0.7458371 ]\n",
      " [0.7545436 ]\n",
      " [0.7612067 ]\n",
      " [0.7653799 ]\n",
      " [0.76871604]\n",
      " [0.7712253 ]\n",
      " [0.7737446 ]\n",
      " [0.77427924]\n",
      " [0.77338207]\n",
      " [0.7734134 ]\n",
      " [0.7744185 ]\n",
      " [0.77588385]\n",
      " [0.778003  ]\n",
      " [0.7814868 ]\n",
      " [0.7846433 ]\n",
      " [0.7863325 ]\n",
      " [0.78620243]\n",
      " [0.78584015]\n",
      " [0.78546023]\n",
      " [0.7842274 ]\n",
      " [0.7830541 ]\n",
      " [0.7812928 ]\n",
      " [0.7789584 ]\n",
      " [0.77653515]\n",
      " [0.77430665]\n",
      " [0.7719674 ]\n",
      " [0.7695896 ]\n",
      " [0.767433  ]\n",
      " [0.7660179 ]\n",
      " [0.76485515]\n",
      " [0.76437175]\n",
      " [0.76395094]\n",
      " [0.7631093 ]\n",
      " [0.76168275]\n",
      " [0.75871897]\n",
      " [0.75373   ]\n",
      " [0.7476596 ]\n",
      " [0.7386897 ]\n",
      " [0.727227  ]\n",
      " [0.7159437 ]\n",
      " [0.70581436]\n",
      " [0.69650483]\n",
      " [0.68775445]\n",
      " [0.680832  ]\n",
      " [0.6754596 ]\n",
      " [0.6716843 ]\n",
      " [0.6702871 ]\n",
      " [0.67208195]\n",
      " [0.6765928 ]\n",
      " [0.6824111 ]\n",
      " [0.6886678 ]\n",
      " [0.69489396]\n",
      " [0.70079285]\n",
      " [0.7063367 ]\n",
      " [0.7104754 ]\n",
      " [0.71317476]\n",
      " [0.7132521 ]\n",
      " [0.71190685]\n",
      " [0.7120536 ]\n",
      " [0.7133631 ]\n",
      " [0.7147773 ]\n",
      " [0.714174  ]\n",
      " [0.7106033 ]\n",
      " [0.70581293]\n",
      " [0.70053315]\n",
      " [0.69577396]\n",
      " [0.6916562 ]\n",
      " [0.687487  ]\n",
      " [0.68283796]\n",
      " [0.67921025]\n",
      " [0.67789364]\n",
      " [0.6776874 ]\n",
      " [0.67837304]\n",
      " [0.68021995]\n",
      " [0.682767  ]\n",
      " [0.6855717 ]\n",
      " [0.68869674]\n",
      " [0.69091785]\n",
      " [0.69155455]\n",
      " [0.68918633]\n",
      " [0.68379766]\n",
      " [0.67633486]\n",
      " [0.66872084]\n",
      " [0.6625127 ]\n",
      " [0.65853864]\n",
      " [0.65562487]\n",
      " [0.6524237 ]\n",
      " [0.64960736]\n",
      " [0.6457562 ]\n",
      " [0.6416226 ]\n",
      " [0.63769156]\n",
      " [0.63534254]\n",
      " [0.6338523 ]\n",
      " [0.63290066]\n",
      " [0.6337998 ]\n",
      " [0.6367513 ]\n",
      " [0.64195234]\n",
      " [0.64846873]\n",
      " [0.65389043]\n",
      " [0.6575432 ]\n",
      " [0.6576972 ]\n",
      " [0.6547325 ]\n",
      " [0.6508319 ]\n",
      " [0.6467352 ]\n",
      " [0.6446173 ]\n",
      " [0.6444209 ]\n",
      " [0.6457195 ]\n",
      " [0.64801735]\n",
      " [0.6520738 ]\n",
      " [0.6574521 ]\n",
      " [0.6631562 ]\n",
      " [0.66963047]\n",
      " [0.6763698 ]\n",
      " [0.6841743 ]\n",
      " [0.6921576 ]\n",
      " [0.69975454]\n",
      " [0.70754796]\n",
      " [0.7165167 ]\n",
      " [0.7260087 ]\n",
      " [0.7339047 ]\n",
      " [0.73935944]\n",
      " [0.74315315]\n",
      " [0.74797535]\n",
      " [0.7536937 ]\n",
      " [0.760282  ]\n",
      " [0.7675798 ]\n",
      " [0.77446425]\n",
      " [0.7802645 ]\n",
      " [0.784621  ]\n",
      " [0.78953093]\n",
      " [0.7942788 ]\n",
      " [0.7991844 ]\n",
      " [0.8052373 ]\n",
      " [0.812097  ]\n",
      " [0.82006294]\n",
      " [0.8297318 ]\n",
      " [0.8399681 ]\n",
      " [0.8491216 ]\n",
      " [0.8565501 ]\n",
      " [0.8613538 ]\n",
      " [0.86403143]\n",
      " [0.8643007 ]\n",
      " [0.863374  ]\n",
      " [0.8617799 ]\n",
      " [0.86162615]\n",
      " [0.8628006 ]\n",
      " [0.8660889 ]\n",
      " [0.8726498 ]\n",
      " [0.88127166]\n",
      " [0.893572  ]\n",
      " [0.90786594]\n",
      " [0.9218594 ]\n",
      " [0.9311093 ]\n",
      " [0.9363063 ]\n",
      " [0.93954504]\n",
      " [0.9403867 ]\n",
      " [0.93469757]\n",
      " [0.9245006 ]\n",
      " [0.9092332 ]\n",
      " [0.89256   ]\n",
      " [0.87674963]\n",
      " [0.8633614 ]\n",
      " [0.85335636]\n",
      " [0.8466787 ]\n",
      " [0.8422814 ]\n",
      " [0.8392898 ]\n",
      " [0.83690155]\n",
      " [0.83470845]\n",
      " [0.83342206]\n",
      " [0.83610445]\n",
      " [0.84148043]]\n"
     ]
    }
   ],
   "source": [
    "ypred = model.predict(X_test)\n",
    "print(ypred)"
   ]
  },
  {
   "cell_type": "code",
   "execution_count": 69,
   "metadata": {
    "id": "vwMbwX3JMbOq"
   },
   "outputs": [
    {
     "data": {
      "text/plain": [
       "119.63594547630397"
      ]
     },
     "execution_count": 69,
     "metadata": {},
     "output_type": "execute_result"
    }
   ],
   "source": [
    "### Calculate RMSE performance metrics\n",
    "import sklearn\n",
    "import math\n",
    "from sklearn.metrics import mean_squared_error\n",
    "math.sqrt(mean_squared_error(y_train,train_predict))\n",
    "#from numpy import array"
   ]
  },
  {
   "cell_type": "markdown",
   "metadata": {},
   "source": [
    "# Evaluate the model"
   ]
  },
  {
   "cell_type": "code",
   "execution_count": 70,
   "metadata": {},
   "outputs": [],
   "source": [
    "# evaluate the model\n",
    "scores = model.evaluate(X_test, ytest, verbose=0)"
   ]
  },
  {
   "cell_type": "code",
   "execution_count": 71,
   "metadata": {},
   "outputs": [
    {
     "name": "stdout",
     "output_type": "stream",
     "text": [
      "Minimum value in the column: 15.8\n",
      "Maximum value in the column: 286.040009\n",
      "Range of values in the column: 270.240009\n"
     ]
    }
   ],
   "source": [
    "# get the range of values in the column\n",
    "min_value = df['Close'].min()\n",
    "max_value = df['Close'].max()\n",
    "value_range = max_value - min_value\n",
    "\n",
    "print(\"Minimum value in the column:\", min_value)\n",
    "print(\"Maximum value in the column:\", max_value)\n",
    "print(\"Range of values in the column:\", value_range)"
   ]
  },
  {
   "cell_type": "code",
   "execution_count": 72,
   "metadata": {},
   "outputs": [],
   "source": [
    "#The range of the target column values is approximately 0.9999999999999998"
   ]
  },
  {
   "cell_type": "code",
   "execution_count": 73,
   "metadata": {},
   "outputs": [],
   "source": [
    "from sklearn.metrics import mean_squared_error,mean_absolute_error,r2_score"
   ]
  },
  {
   "cell_type": "code",
   "execution_count": 74,
   "metadata": {},
   "outputs": [
    {
     "name": "stdout",
     "output_type": "stream",
     "text": [
      "MAE 0.02936798842658905\n",
      "MSE 0.001366797217539342\n",
      "RMSE 0.036970220685564506\n",
      "R2 Score 0.8505994118325582\n"
     ]
    }
   ],
   "source": [
    "#def eval_model(ytest,ypred):\n",
    "mae = mean_absolute_error(ytest,ypred)\n",
    "mse = mean_squared_error(ytest,ypred)\n",
    "rmse = np.sqrt(mse)\n",
    "r2s = r2_score(ytest,ypred)\n",
    "print('MAE',mae)\n",
    "print('MSE',mse)\n",
    "print('RMSE',rmse)\n",
    "print('R2 Score',r2s)"
   ]
  },
  {
   "cell_type": "code",
   "execution_count": 75,
   "metadata": {
    "colab": {
     "base_uri": "https://localhost:8080/",
     "height": 141
    },
    "id": "VC-GZL59MbR3",
    "outputId": "eb35fce7-5dda-4050-df44-feb42aabfdfa"
   },
   "outputs": [
    {
     "data": {
      "text/plain": [
       "223.9132608811584"
      ]
     },
     "execution_count": 75,
     "metadata": {},
     "output_type": "execute_result"
    }
   ],
   "source": [
    "### Test Data RMSE\n",
    "math.sqrt(mean_squared_error(ytest,test_predict))"
   ]
  },
  {
   "cell_type": "code",
   "execution_count": 76,
   "metadata": {
    "colab": {
     "base_uri": "https://localhost:8080/",
     "height": 430
    },
    "id": "XrGOUWJAMbVx",
    "outputId": "99660fd0-30f5-44f2-a5a2-2011d83f73b8"
   },
   "outputs": [
    {
     "data": {
      "image/png": "[encoded data removed]",
      "text/plain": [
       "<Figure size 432x288 with 1 Axes>"
      ]
     },
     "metadata": {
      "needs_background": "light"
     },
     "output_type": "display_data"
    }
   ],
   "source": [
    "### Plotting\n",
    "# shift train predictions for plotting\n",
    "look_back=100\n",
    "trainPredictPlot = numpy.empty_like(Tesla)\n",
    "trainPredictPlot[:, :] = np.nan\n",
    "trainPredictPlot[look_back:len(train_predict)+look_back, :] = train_predict\n",
    "# shift test predictions for plotting\n",
    "testPredictPlot = numpy.empty_like(Tesla)\n",
    "testPredictPlot[:, :] = numpy.nan\n",
    "testPredictPlot[len(train_predict)+(look_back*2)+1:len(Tesla)-1, :] = test_predict\n",
    "# plot baseline and predictions\n",
    "plt.plot(scaler.inverse_transform(Tesla))\n",
    "plt.plot(trainPredictPlot)\n",
    "plt.plot(testPredictPlot)\n",
    "plt.show()"
   ]
  },
  {
   "cell_type": "code",
   "execution_count": 77,
   "metadata": {
    "colab": {
     "base_uri": "https://localhost:8080/"
    },
    "id": "-843_lHYMbY5",
    "outputId": "dcd41ff0-cd37-464d-8c20-79cd83b07ad0"
   },
   "outputs": [
    {
     "data": {
      "text/plain": [
       "593"
      ]
     },
     "execution_count": 77,
     "metadata": {},
     "output_type": "execute_result"
    }
   ],
   "source": [
    "len(test_data)"
   ]
  },
  {
   "cell_type": "code",
   "execution_count": 78,
   "metadata": {},
   "outputs": [
    {
     "data": {
      "image/png": "[encoded data removed]",
      "text/plain": [
       "<Figure size 720x432 with 1 Axes>"
      ]
     },
     "metadata": {
      "needs_background": "light"
     },
     "output_type": "display_data"
    }
   ],
   "source": [
    "plt.figure(figsize=(10,6))\n",
    "sns.histplot(data=df, x='Volume', kde=True, color='blue')\n",
    "plt.title('Distribution of Volume')\n",
    "plt.xlabel('Volume')\n",
    "plt.ylabel('Count')\n",
    "plt.show()"
   ]
  },
  {
   "cell_type": "code",
   "execution_count": 79,
   "metadata": {
    "colab": {
     "base_uri": "https://localhost:8080/"
    },
    "id": "mVjs4veJMbcm",
    "outputId": "3b0b56f3-8004-45ef-f0aa-31518a368949"
   },
   "outputs": [
    {
     "data": {
      "text/plain": [
       "(1, 100)"
      ]
     },
     "execution_count": 79,
     "metadata": {},
     "output_type": "execute_result"
    }
   ],
   "source": [
    "x_input=test_data[493:].reshape(1,-1)\n",
    "x_input.shape"
   ]
  },
  {
   "cell_type": "code",
   "execution_count": 80,
   "metadata": {
    "id": "OygDlXEFMbff"
   },
   "outputs": [],
   "source": [
    "temp_input=list(x_input)\n",
    "temp_input=temp_input[0].tolist()"
   ]
  },
  {
   "cell_type": "code",
   "execution_count": 81,
   "metadata": {
    "colab": {
     "base_uri": "https://localhost:8080/"
    },
    "id": "g631C3ONMbjy",
    "outputId": "c7398dbb-c76f-454b-cc10-7c3bcb95c36a"
   },
   "outputs": [
    {
     "data": {
      "text/plain": [
       "[0.6918294433597358,\n",
       " 0.6902752730444144,\n",
       " 0.6899052649158253,\n",
       " 0.6964549612637113,\n",
       " 0.6815053096005484,\n",
       " 0.6732163630145528,\n",
       " 0.6475354765104379,\n",
       " 0.6372853695397857,\n",
       " 0.6350650987433915,\n",
       " 0.6466843997181779,\n",
       " 0.6564905309783349,\n",
       " 0.6628922292553653,\n",
       " 0.6448341925565877,\n",
       " 0.6274052706977227,\n",
       " 0.6392835710718171,\n",
       " 0.6129736215335901,\n",
       " 0.621558608666269,\n",
       " 0.6221506342534202,\n",
       " 0.6396536347066211,\n",
       " 0.6261841265702445,\n",
       " 0.6243339194086542,\n",
       " 0.648941652455318,\n",
       " 0.6562314723723977,\n",
       " 0.6692199081446892,\n",
       " 0.667258692253818,\n",
       " 0.6430210228419583,\n",
       " 0.6423919043016313,\n",
       " 0.6145648292958723,\n",
       " 0.613047644621711,\n",
       " 0.6327708603650912,\n",
       " 0.6292554778593128,\n",
       " 0.6562684580135578,\n",
       " 0.6530860979952084,\n",
       " 0.6526790524196585,\n",
       " 0.6536041560004536,\n",
       " 0.6747705296294598,\n",
       " 0.6767687829672918,\n",
       " 0.6726613230685616,\n",
       " 0.6908303684966204,\n",
       " 0.6917184346304547,\n",
       " 0.714142934327685,\n",
       " 0.7101094975170756,\n",
       " 0.7128848082594609,\n",
       " 0.7309798305993989,\n",
       " 0.7538854063611284,\n",
       " 0.7546625155714822,\n",
       " 0.7359383746912175,\n",
       " 0.7322749978149978,\n",
       " 0.7444863761827362,\n",
       " 0.7814905194145402,\n",
       " 0.7806024014749052,\n",
       " 0.7889653193432213,\n",
       " 0.7973652746584982,\n",
       " 0.7921476756611564,\n",
       " 0.7916296213563255,\n",
       " 0.7911115633510803,\n",
       " 0.8213069590298896,\n",
       " 0.8132770673494168,\n",
       " 0.8235642154674441,\n",
       " 0.8435464306101322,\n",
       " 0.8471358362040315,\n",
       " 0.862640579618986,\n",
       " 0.8836959482191256,\n",
       " 0.8831778902138802,\n",
       " 0.8759250559379607,\n",
       " 0.8775532456409887,\n",
       " 0.8689683140145248,\n",
       " 0.8737788082296875,\n",
       " 0.863824738105304,\n",
       " 0.8723726877910221,\n",
       " 0.8715585929395081,\n",
       " 0.8953892130754036,\n",
       " 0.8943161743307965,\n",
       " 0.9113379914074826,\n",
       " 0.9376850338988851,\n",
       " 0.9377960426281661,\n",
       " 0.9798697349806558,\n",
       " 0.9812759109255358,\n",
       " 0.9767614017508415,\n",
       " 0.93675993031809,\n",
       " 0.9488972855977074,\n",
       " 0.9679914383069754,\n",
       " 0.953633812230964,\n",
       " 0.8888025347867717,\n",
       " 0.8925399347511123,\n",
       " 0.8526864576888021,\n",
       " 0.8666000488476893,\n",
       " 0.8667110575769704,\n",
       " 0.8684132185623188,\n",
       " 0.872446710879143,\n",
       " 0.871114561722798,\n",
       " 0.8614194354915079,\n",
       " 0.8550547191552232,\n",
       " 0.8477648992381435,\n",
       " 0.8432874275104099,\n",
       " 0.8524644402302399,\n",
       " 0.8962403490742927,\n",
       " 0.8878403937590159,\n",
       " 0.9112269826782013,\n",
       " 0.9091917992054241]"
      ]
     },
     "execution_count": 81,
     "metadata": {},
     "output_type": "execute_result"
    }
   ],
   "source": [
    "temp_input"
   ]
  },
  {
   "cell_type": "code",
   "execution_count": 82,
   "metadata": {},
   "outputs": [
    {
     "name": "stdout",
     "output_type": "stream",
     "text": [
      "[0.86005753]\n",
      "101\n",
      "1 day input [0.69027527 0.68990526 0.69645496 0.68150531 0.67321636 0.64753548\n",
      " 0.63728537 0.6350651  0.6466844  0.65649053 0.66289223 0.64483419\n",
      " 0.62740527 0.63928357 0.61297362 0.62155861 0.62215063 0.63965363\n",
      " 0.62618413 0.62433392 0.64894165 0.65623147 0.66921991 0.66725869\n",
      " 0.64302102 0.6423919  0.61456483 0.61304764 0.63277086 0.62925548\n",
      " 0.65626846 0.6530861  0.65267905 0.65360416 0.67477053 0.67676878\n",
      " 0.67266132 0.69083037 0.69171843 0.71414293 0.7101095  0.71288481\n",
      " 0.73097983 0.75388541 0.75466252 0.73593837 0.732275   0.74448638\n",
      " 0.78149052 0.7806024  0.78896532 0.79736527 0.79214768 0.79162962\n",
      " 0.79111156 0.82130696 0.81327707 0.82356422 0.84354643 0.84713584\n",
      " 0.86264058 0.88369595 0.88317789 0.87592506 0.87755325 0.86896831\n",
      " 0.87377881 0.86382474 0.87237269 0.87155859 0.89538921 0.89431617\n",
      " 0.91133799 0.93768503 0.93779604 0.97986973 0.98127591 0.9767614\n",
      " 0.93675993 0.94889729 0.96799144 0.95363381 0.88880253 0.89253993\n",
      " 0.85268646 0.86660005 0.86671106 0.86841322 0.87244671 0.87111456\n",
      " 0.86141944 0.85505472 0.8477649  0.84328743 0.85246444 0.89624035\n",
      " 0.88784039 0.91122698 0.9091918  0.86005753]\n",
      "1 day output [[0.86674166]]\n",
      "2 day input [0.68990526 0.69645496 0.68150531 0.67321636 0.64753548 0.63728537\n",
      " 0.6350651  0.6466844  0.65649053 0.66289223 0.64483419 0.62740527\n",
      " 0.63928357 0.61297362 0.62155861 0.62215063 0.63965363 0.62618413\n",
      " 0.62433392 0.64894165 0.65623147 0.66921991 0.66725869 0.64302102\n",
      " 0.6423919  0.61456483 0.61304764 0.63277086 0.62925548 0.65626846\n",
      " 0.6530861  0.65267905 0.65360416 0.67477053 0.67676878 0.67266132\n",
      " 0.69083037 0.69171843 0.71414293 0.7101095  0.71288481 0.73097983\n",
      " 0.75388541 0.75466252 0.73593837 0.732275   0.74448638 0.78149052\n",
      " 0.7806024  0.78896532 0.79736527 0.79214768 0.79162962 0.79111156\n",
      " 0.82130696 0.81327707 0.82356422 0.84354643 0.84713584 0.86264058\n",
      " 0.88369595 0.88317789 0.87592506 0.87755325 0.86896831 0.87377881\n",
      " 0.86382474 0.87237269 0.87155859 0.89538921 0.89431617 0.91133799\n",
      " 0.93768503 0.93779604 0.97986973 0.98127591 0.9767614  0.93675993\n",
      " 0.94889729 0.96799144 0.95363381 0.88880253 0.89253993 0.85268646\n",
      " 0.86660005 0.86671106 0.86841322 0.87244671 0.87111456 0.86141944\n",
      " 0.85505472 0.8477649  0.84328743 0.85246444 0.89624035 0.88784039\n",
      " 0.91122698 0.9091918  0.86005753 0.86674166]\n",
      "2 day output [[0.8700532]]\n",
      "3 day input [0.69645496 0.68150531 0.67321636 0.64753548 0.63728537 0.6350651\n",
      " 0.6466844  0.65649053 0.66289223 0.64483419 0.62740527 0.63928357\n",
      " 0.61297362 0.62155861 0.62215063 0.63965363 0.62618413 0.62433392\n",
      " 0.64894165 0.65623147 0.66921991 0.66725869 0.64302102 0.6423919\n",
      " 0.61456483 0.61304764 0.63277086 0.62925548 0.65626846 0.6530861\n",
      " 0.65267905 0.65360416 0.67477053 0.67676878 0.67266132 0.69083037\n",
      " 0.69171843 0.71414293 0.7101095  0.71288481 0.73097983 0.75388541\n",
      " 0.75466252 0.73593837 0.732275   0.74448638 0.78149052 0.7806024\n",
      " 0.78896532 0.79736527 0.79214768 0.79162962 0.79111156 0.82130696\n",
      " 0.81327707 0.82356422 0.84354643 0.84713584 0.86264058 0.88369595\n",
      " 0.88317789 0.87592506 0.87755325 0.86896831 0.87377881 0.86382474\n",
      " 0.87237269 0.87155859 0.89538921 0.89431617 0.91133799 0.93768503\n",
      " 0.93779604 0.97986973 0.98127591 0.9767614  0.93675993 0.94889729\n",
      " 0.96799144 0.95363381 0.88880253 0.89253993 0.85268646 0.86660005\n",
      " 0.86671106 0.86841322 0.87244671 0.87111456 0.86141944 0.85505472\n",
      " 0.8477649  0.84328743 0.85246444 0.89624035 0.88784039 0.91122698\n",
      " 0.9091918  0.86005753 0.86674166 0.87005317]\n",
      "3 day output [[0.87074554]]\n",
      "4 day input [0.68150531 0.67321636 0.64753548 0.63728537 0.6350651  0.6466844\n",
      " 0.65649053 0.66289223 0.64483419 0.62740527 0.63928357 0.61297362\n",
      " 0.62155861 0.62215063 0.63965363 0.62618413 0.62433392 0.64894165\n",
      " 0.65623147 0.66921991 0.66725869 0.64302102 0.6423919  0.61456483\n",
      " 0.61304764 0.63277086 0.62925548 0.65626846 0.6530861  0.65267905\n",
      " 0.65360416 0.67477053 0.67676878 0.67266132 0.69083037 0.69171843\n",
      " 0.71414293 0.7101095  0.71288481 0.73097983 0.75388541 0.75466252\n",
      " 0.73593837 0.732275   0.74448638 0.78149052 0.7806024  0.78896532\n",
      " 0.79736527 0.79214768 0.79162962 0.79111156 0.82130696 0.81327707\n",
      " 0.82356422 0.84354643 0.84713584 0.86264058 0.88369595 0.88317789\n",
      " 0.87592506 0.87755325 0.86896831 0.87377881 0.86382474 0.87237269\n",
      " 0.87155859 0.89538921 0.89431617 0.91133799 0.93768503 0.93779604\n",
      " 0.97986973 0.98127591 0.9767614  0.93675993 0.94889729 0.96799144\n",
      " 0.95363381 0.88880253 0.89253993 0.85268646 0.86660005 0.86671106\n",
      " 0.86841322 0.87244671 0.87111456 0.86141944 0.85505472 0.8477649\n",
      " 0.84328743 0.85246444 0.89624035 0.88784039 0.91122698 0.9091918\n",
      " 0.86005753 0.86674166 0.87005317 0.87074554]\n",
      "4 day output [[0.869657]]\n",
      "5 day input [0.67321636 0.64753548 0.63728537 0.6350651  0.6466844  0.65649053\n",
      " 0.66289223 0.64483419 0.62740527 0.63928357 0.61297362 0.62155861\n",
      " 0.62215063 0.63965363 0.62618413 0.62433392 0.64894165 0.65623147\n",
      " 0.66921991 0.66725869 0.64302102 0.6423919  0.61456483 0.61304764\n",
      " 0.63277086 0.62925548 0.65626846 0.6530861  0.65267905 0.65360416\n",
      " 0.67477053 0.67676878 0.67266132 0.69083037 0.69171843 0.71414293\n",
      " 0.7101095  0.71288481 0.73097983 0.75388541 0.75466252 0.73593837\n",
      " 0.732275   0.74448638 0.78149052 0.7806024  0.78896532 0.79736527\n",
      " 0.79214768 0.79162962 0.79111156 0.82130696 0.81327707 0.82356422\n",
      " 0.84354643 0.84713584 0.86264058 0.88369595 0.88317789 0.87592506\n",
      " 0.87755325 0.86896831 0.87377881 0.86382474 0.87237269 0.87155859\n",
      " 0.89538921 0.89431617 0.91133799 0.93768503 0.93779604 0.97986973\n",
      " 0.98127591 0.9767614  0.93675993 0.94889729 0.96799144 0.95363381\n",
      " 0.88880253 0.89253993 0.85268646 0.86660005 0.86671106 0.86841322\n",
      " 0.87244671 0.87111456 0.86141944 0.85505472 0.8477649  0.84328743\n",
      " 0.85246444 0.89624035 0.88784039 0.91122698 0.9091918  0.86005753\n",
      " 0.86674166 0.87005317 0.87074554 0.86965698]\n",
      "5 day output [[0.86746013]]\n",
      "6 day input [0.64753548 0.63728537 0.6350651  0.6466844  0.65649053 0.66289223\n",
      " 0.64483419 0.62740527 0.63928357 0.61297362 0.62155861 0.62215063\n",
      " 0.63965363 0.62618413 0.62433392 0.64894165 0.65623147 0.66921991\n",
      " 0.66725869 0.64302102 0.6423919  0.61456483 0.61304764 0.63277086\n",
      " 0.62925548 0.65626846 0.6530861  0.65267905 0.65360416 0.67477053\n",
      " 0.67676878 0.67266132 0.69083037 0.69171843 0.71414293 0.7101095\n",
      " 0.71288481 0.73097983 0.75388541 0.75466252 0.73593837 0.732275\n",
      " 0.74448638 0.78149052 0.7806024  0.78896532 0.79736527 0.79214768\n",
      " 0.79162962 0.79111156 0.82130696 0.81327707 0.82356422 0.84354643\n",
      " 0.84713584 0.86264058 0.88369595 0.88317789 0.87592506 0.87755325\n",
      " 0.86896831 0.87377881 0.86382474 0.87237269 0.87155859 0.89538921\n",
      " 0.89431617 0.91133799 0.93768503 0.93779604 0.97986973 0.98127591\n",
      " 0.9767614  0.93675993 0.94889729 0.96799144 0.95363381 0.88880253\n",
      " 0.89253993 0.85268646 0.86660005 0.86671106 0.86841322 0.87244671\n",
      " 0.87111456 0.86141944 0.85505472 0.8477649  0.84328743 0.85246444\n",
      " 0.89624035 0.88784039 0.91122698 0.9091918  0.86005753 0.86674166\n",
      " 0.87005317 0.87074554 0.86965698 0.86746013]\n",
      "6 day output [[0.86461645]]\n",
      "7 day input [0.63728537 0.6350651  0.6466844  0.65649053 0.66289223 0.64483419\n",
      " 0.62740527 0.63928357 0.61297362 0.62155861 0.62215063 0.63965363\n",
      " 0.62618413 0.62433392 0.64894165 0.65623147 0.66921991 0.66725869\n",
      " 0.64302102 0.6423919  0.61456483 0.61304764 0.63277086 0.62925548\n",
      " 0.65626846 0.6530861  0.65267905 0.65360416 0.67477053 0.67676878\n",
      " 0.67266132 0.69083037 0.69171843 0.71414293 0.7101095  0.71288481\n",
      " 0.73097983 0.75388541 0.75466252 0.73593837 0.732275   0.74448638\n",
      " 0.78149052 0.7806024  0.78896532 0.79736527 0.79214768 0.79162962\n",
      " 0.79111156 0.82130696 0.81327707 0.82356422 0.84354643 0.84713584\n",
      " 0.86264058 0.88369595 0.88317789 0.87592506 0.87755325 0.86896831\n",
      " 0.87377881 0.86382474 0.87237269 0.87155859 0.89538921 0.89431617\n",
      " 0.91133799 0.93768503 0.93779604 0.97986973 0.98127591 0.9767614\n",
      " 0.93675993 0.94889729 0.96799144 0.95363381 0.88880253 0.89253993\n",
      " 0.85268646 0.86660005 0.86671106 0.86841322 0.87244671 0.87111456\n",
      " 0.86141944 0.85505472 0.8477649  0.84328743 0.85246444 0.89624035\n",
      " 0.88784039 0.91122698 0.9091918  0.86005753 0.86674166 0.87005317\n",
      " 0.87074554 0.86965698 0.86746013 0.86461645]\n",
      "7 day output [[0.8614117]]\n",
      "8 day input [0.6350651  0.6466844  0.65649053 0.66289223 0.64483419 0.62740527\n",
      " 0.63928357 0.61297362 0.62155861 0.62215063 0.63965363 0.62618413\n",
      " 0.62433392 0.64894165 0.65623147 0.66921991 0.66725869 0.64302102\n",
      " 0.6423919  0.61456483 0.61304764 0.63277086 0.62925548 0.65626846\n",
      " 0.6530861  0.65267905 0.65360416 0.67477053 0.67676878 0.67266132\n",
      " 0.69083037 0.69171843 0.71414293 0.7101095  0.71288481 0.73097983\n",
      " 0.75388541 0.75466252 0.73593837 0.732275   0.74448638 0.78149052\n",
      " 0.7806024  0.78896532 0.79736527 0.79214768 0.79162962 0.79111156\n",
      " 0.82130696 0.81327707 0.82356422 0.84354643 0.84713584 0.86264058\n",
      " 0.88369595 0.88317789 0.87592506 0.87755325 0.86896831 0.87377881\n",
      " 0.86382474 0.87237269 0.87155859 0.89538921 0.89431617 0.91133799\n",
      " 0.93768503 0.93779604 0.97986973 0.98127591 0.9767614  0.93675993\n",
      " 0.94889729 0.96799144 0.95363381 0.88880253 0.89253993 0.85268646\n",
      " 0.86660005 0.86671106 0.86841322 0.87244671 0.87111456 0.86141944\n",
      " 0.85505472 0.8477649  0.84328743 0.85246444 0.89624035 0.88784039\n",
      " 0.91122698 0.9091918  0.86005753 0.86674166 0.87005317 0.87074554\n",
      " 0.86965698 0.86746013 0.86461645 0.86141169]\n"
     ]
    },
    {
     "name": "stdout",
     "output_type": "stream",
     "text": [
      "8 day output [[0.85801196]]\n",
      "9 day input [0.6466844  0.65649053 0.66289223 0.64483419 0.62740527 0.63928357\n",
      " 0.61297362 0.62155861 0.62215063 0.63965363 0.62618413 0.62433392\n",
      " 0.64894165 0.65623147 0.66921991 0.66725869 0.64302102 0.6423919\n",
      " 0.61456483 0.61304764 0.63277086 0.62925548 0.65626846 0.6530861\n",
      " 0.65267905 0.65360416 0.67477053 0.67676878 0.67266132 0.69083037\n",
      " 0.69171843 0.71414293 0.7101095  0.71288481 0.73097983 0.75388541\n",
      " 0.75466252 0.73593837 0.732275   0.74448638 0.78149052 0.7806024\n",
      " 0.78896532 0.79736527 0.79214768 0.79162962 0.79111156 0.82130696\n",
      " 0.81327707 0.82356422 0.84354643 0.84713584 0.86264058 0.88369595\n",
      " 0.88317789 0.87592506 0.87755325 0.86896831 0.87377881 0.86382474\n",
      " 0.87237269 0.87155859 0.89538921 0.89431617 0.91133799 0.93768503\n",
      " 0.93779604 0.97986973 0.98127591 0.9767614  0.93675993 0.94889729\n",
      " 0.96799144 0.95363381 0.88880253 0.89253993 0.85268646 0.86660005\n",
      " 0.86671106 0.86841322 0.87244671 0.87111456 0.86141944 0.85505472\n",
      " 0.8477649  0.84328743 0.85246444 0.89624035 0.88784039 0.91122698\n",
      " 0.9091918  0.86005753 0.86674166 0.87005317 0.87074554 0.86965698\n",
      " 0.86746013 0.86461645 0.86141169 0.85801196]\n",
      "9 day output [[0.85451007]]\n",
      "[[0.860057532787323], [0.8667416572570801], [0.8700531721115112], [0.8707455396652222], [0.8696569800376892], [0.8674601316452026], [0.8646164536476135], [0.8614116907119751], [0.8580119609832764], [0.8545100688934326]]\n"
     ]
    }
   ],
   "source": [
    "# demonstrate prediction for next 10 days\n",
    "from numpy import array\n",
    "\n",
    "lst_output=[]\n",
    "n_steps=100\n",
    "i=0\n",
    "while(i<10):\n",
    "\n",
    "    if(len(temp_input)>100):\n",
    "        #print(temp_input)\n",
    "        x_input=np.array(temp_input[1:])\n",
    "        print(\"{} day input {}\".format(i,x_input))\n",
    "        x_input=x_input.reshape(1,-1)\n",
    "        x_input=x_input.reshape(1, -1, 1) \n",
    "        #print(x_input)\n",
    "        yhat = model.predict(x_input, verbose=0)\n",
    "        print(\"{} day output {}\".format(i,yhat))\n",
    "        temp_input.extend(yhat[0].tolist())\n",
    "        temp_input=temp_input[1:]\n",
    "        #print(temp_input)\n",
    "        lst_output.extend(yhat.tolist())\n",
    "        i=i+1\n",
    "    else:\n",
    "        x_input = x_input.reshape((1, n_steps,1))\n",
    "        yhat = model.predict(x_input, verbose=0)\n",
    "        print(yhat[0])\n",
    "        temp_input.extend(yhat[0].tolist())\n",
    "        print(len(temp_input))\n",
    "        lst_output.extend(yhat.tolist())\n",
    "        i=i+1\n",
    "\n",
    "\n",
    "print(lst_output)"
   ]
  },
  {
   "cell_type": "code",
   "execution_count": 83,
   "metadata": {
    "id": "nFJjoTcZMykf"
   },
   "outputs": [],
   "source": [
    "day_new=np.arange(1,101)\n",
    "day_pred=np.arange(101,131)"
   ]
  },
  {
   "cell_type": "code",
   "execution_count": 85,
   "metadata": {
    "colab": {
     "base_uri": "https://localhost:8080/"
    },
    "id": "oFI0fu4JMyn4",
    "outputId": "1bd968f2-428e-490d-d697-11f038618adf"
   },
   "outputs": [
    {
     "data": {
      "text/plain": [
       "1592"
      ]
     },
     "execution_count": 85,
     "metadata": {},
     "output_type": "execute_result"
    }
   ],
   "source": [
    "len(Tesla)-100"
   ]
  },
  {
   "cell_type": "code",
   "execution_count": 86,
   "metadata": {},
   "outputs": [
    {
     "data": {
      "image/png": "[encoded data removed]",
      "text/plain": [
       "<Figure size 432x288 with 1 Axes>"
      ]
     },
     "metadata": {
      "needs_background": "light"
     },
     "output_type": "display_data"
    }
   ],
   "source": [
    "# Extract the last 100 data points for plotting\n",
    "day_new = np.arange(1, 101)  # This assumes you have 100 data points\n",
    "day_pred = np.arange(101, 111)  # Predicting the next 10 days\n",
    "\n",
    "# Plot the actual and predicted data with the same number of points\n",
    "plt.plot(day_new, scaler.inverse_transform(Tesla[1592:]))  # Adjust the range to match your data\n",
    "plt.plot(day_pred, scaler.inverse_transform(lst_output))\n",
    "plt.xlabel('Days')\n",
    "plt.ylabel('Stock Price')\n",
    "plt.legend(['Actual', 'Predicted'])\n",
    "plt.show()\n"
   ]
  },
  {
   "cell_type": "code",
   "execution_count": 88,
   "metadata": {
    "colab": {
     "base_uri": "https://localhost:8080/",
     "height": 447
    },
    "id": "xWq9FMrFMyz_",
    "outputId": "4201f618-5821-47f9-c0b0-4ad430aecaa2"
   },
   "outputs": [
    {
     "data": {
      "text/plain": [
       "[<matplotlib.lines.Line2D at 0x2637fc1af70>]"
      ]
     },
     "execution_count": 88,
     "metadata": {},
     "output_type": "execute_result"
    },
    {
     "data": {
      "image/png": "[encoded data removed]",
      "text/plain": [
       "<Figure size 432x288 with 1 Axes>"
      ]
     },
     "metadata": {
      "needs_background": "light"
     },
     "output_type": "display_data"
    }
   ],
   "source": [
    "Tesla1=Tesla.tolist()\n",
    "Tesla1.extend(lst_output)\n",
    "plt.plot(Tesla1[1200:])"
   ]
  },
  {
   "cell_type": "code",
   "execution_count": 89,
   "metadata": {
    "id": "Rje64jSzMy26"
   },
   "outputs": [],
   "source": [
    "Tesla1=scaler.inverse_transform(Tesla1).tolist()"
   ]
  },
  {
   "cell_type": "code",
   "execution_count": 90,
   "metadata": {
    "colab": {
     "base_uri": "https://localhost:8080/",
     "height": 447
    },
    "id": "TRE9B-pzMy6l",
    "outputId": "7ba5b0e2-c732-42cf-ae44-98c013e56076"
   },
   "outputs": [
    {
     "data": {
      "text/plain": [
       "[<matplotlib.lines.Line2D at 0x2637fd28d00>]"
      ]
     },
     "execution_count": 90,
     "metadata": {},
     "output_type": "execute_result"
    },
    {
     "data": {
      "image/png": "[encoded data removed]",
      "text/plain": [
       "<Figure size 432x288 with 1 Axes>"
      ]
     },
     "metadata": {
      "needs_background": "light"
     },
     "output_type": "display_data"
    }
   ],
   "source": [
    "plt.plot(Tesla1)"
   ]
  },
  {
   "cell_type": "markdown",
   "metadata": {},
   "source": [
    "In this notebook, we have demonstrated how to use LSTM models to predict stock prices and how to improve the model's performance through techniques such as hyperparameter tuning, regularization, and interpretability. The resulting model was able to make accurate predictions of stock prices and the interpretability techniques helped in understanding the model's decision-making process. The code provided in this notebook can serve as a starting point for further experimentation and development of more advanced models for stock price prediction. Additionally, this notebook can serve as a guide for anyone who wants to apply similar techniques to other time-series prediction problems"
   ]
  }
 ],
 "metadata": {
  "colab": {
   "provenance": []
  },
  "kernelspec": {
   "display_name": "Python 3 (ipykernel)",
   "language": "python",
   "name": "python3"
  },
  "language_info": {
   "codemirror_mode": {
    "name": "ipython",
    "version": 3
   },
   "file_extension": ".py",
   "mimetype": "text/x-python",
   "name": "python",
   "nbconvert_exporter": "python",
   "pygments_lexer": "ipython3",
   "version": "3.9.12"
  }
 },
 "nbformat": 4,
 "nbformat_minor": 1
}
